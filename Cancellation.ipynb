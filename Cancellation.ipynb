{
 "cells": [
  {
   "cell_type": "code",
   "execution_count": 68,
   "id": "c8b88ddd-3f39-4640-b726-353c06b656b7",
   "metadata": {},
   "outputs": [],
   "source": [
    "import pandas as pd\n",
    "import numpy as np\n",
    "from datetime import datetime"
   ]
  },
  {
   "cell_type": "code",
   "execution_count": 69,
   "id": "e529f1a8-8702-4398-9570-ab77beeb2c76",
   "metadata": {},
   "outputs": [
    {
     "data": {
      "text/html": [
       "<div>\n",
       "<style scoped>\n",
       "    .dataframe tbody tr th:only-of-type {\n",
       "        vertical-align: middle;\n",
       "    }\n",
       "\n",
       "    .dataframe tbody tr th {\n",
       "        vertical-align: top;\n",
       "    }\n",
       "\n",
       "    .dataframe thead th {\n",
       "        text-align: right;\n",
       "    }\n",
       "</style>\n",
       "<table border=\"1\" class=\"dataframe\">\n",
       "  <thead>\n",
       "    <tr style=\"text-align: right;\">\n",
       "      <th></th>\n",
       "      <th>Created</th>\n",
       "      <th>CancelTime</th>\n",
       "      <th>DepartureTime</th>\n",
       "      <th>BillID</th>\n",
       "      <th>TicketID</th>\n",
       "      <th>ReserveStatus</th>\n",
       "      <th>UserID</th>\n",
       "      <th>Male</th>\n",
       "      <th>Price</th>\n",
       "      <th>CouponDiscount</th>\n",
       "      <th>...</th>\n",
       "      <th>Domestic</th>\n",
       "      <th>VehicleType</th>\n",
       "      <th>VehicleClass</th>\n",
       "      <th>TripReason</th>\n",
       "      <th>Vehicle</th>\n",
       "      <th>Cancel</th>\n",
       "      <th>HashPassportNumber_p</th>\n",
       "      <th>HashEmail</th>\n",
       "      <th>BuyerMobile</th>\n",
       "      <th>NationalCode</th>\n",
       "    </tr>\n",
       "  </thead>\n",
       "  <tbody>\n",
       "    <tr>\n",
       "      <th>0</th>\n",
       "      <td>2022-07-26 13:33:20.457</td>\n",
       "      <td>NaN</td>\n",
       "      <td>2022-07-26 16:30:00</td>\n",
       "      <td>38428546</td>\n",
       "      <td>7445571.0</td>\n",
       "      <td>3</td>\n",
       "      <td>NaN</td>\n",
       "      <td>True</td>\n",
       "      <td>1180000.0</td>\n",
       "      <td>0.0</td>\n",
       "      <td>...</td>\n",
       "      <td>1</td>\n",
       "      <td>VIPمانیتوردار-شارژراختصاصی تخت شو مارال (جدید)...</td>\n",
       "      <td>True</td>\n",
       "      <td>Work</td>\n",
       "      <td>Bus</td>\n",
       "      <td>0</td>\n",
       "      <td>NaN</td>\n",
       "      <td>NaN</td>\n",
       "      <td>302222356019</td>\n",
       "      <td>330024570</td>\n",
       "    </tr>\n",
       "    <tr>\n",
       "      <th>1</th>\n",
       "      <td>2022-10-27 23:07:01.837</td>\n",
       "      <td>2022-10-27 23:26:39.070</td>\n",
       "      <td>2022-10-29 09:45:00</td>\n",
       "      <td>39768762</td>\n",
       "      <td>7762719.0</td>\n",
       "      <td>5</td>\n",
       "      <td>NaN</td>\n",
       "      <td>False</td>\n",
       "      <td>1050000.0</td>\n",
       "      <td>0.0</td>\n",
       "      <td>...</td>\n",
       "      <td>1</td>\n",
       "      <td>classicus 2+2</td>\n",
       "      <td>True</td>\n",
       "      <td>Int</td>\n",
       "      <td>Bus</td>\n",
       "      <td>1</td>\n",
       "      <td>NaN</td>\n",
       "      <td>NaN</td>\n",
       "      <td>900764168521</td>\n",
       "      <td>995520696</td>\n",
       "    </tr>\n",
       "    <tr>\n",
       "      <th>2</th>\n",
       "      <td>2022-09-12 11:01:13.607</td>\n",
       "      <td>NaN</td>\n",
       "      <td>2022-10-03 18:35:00</td>\n",
       "      <td>39128001</td>\n",
       "      <td>2327596.0</td>\n",
       "      <td>5</td>\n",
       "      <td>800398.0</td>\n",
       "      <td>False</td>\n",
       "      <td>4674000.0</td>\n",
       "      <td>0.0</td>\n",
       "      <td>...</td>\n",
       "      <td>1</td>\n",
       "      <td>فوکر 100</td>\n",
       "      <td>False</td>\n",
       "      <td>Int</td>\n",
       "      <td>Plane</td>\n",
       "      <td>0</td>\n",
       "      <td>NaN</td>\n",
       "      <td>1c44d7a76b52341fa12dcfa993138576befcc9ebf01d14...</td>\n",
       "      <td>749804783291</td>\n",
       "      <td>979382950</td>\n",
       "    </tr>\n",
       "    <tr>\n",
       "      <th>3</th>\n",
       "      <td>2022-08-08 17:43:35.840</td>\n",
       "      <td>NaN</td>\n",
       "      <td>2022-08-08 22:30:00</td>\n",
       "      <td>38606546</td>\n",
       "      <td>7495440.0</td>\n",
       "      <td>3</td>\n",
       "      <td>NaN</td>\n",
       "      <td>True</td>\n",
       "      <td>1200000.0</td>\n",
       "      <td>0.0</td>\n",
       "      <td>...</td>\n",
       "      <td>1</td>\n",
       "      <td>VIPدرسا+مانیتوردار+شارژراختصاصی+پذیرایی</td>\n",
       "      <td>True</td>\n",
       "      <td>Work</td>\n",
       "      <td>Bus</td>\n",
       "      <td>0</td>\n",
       "      <td>NaN</td>\n",
       "      <td>NaN</td>\n",
       "      <td>781396205677</td>\n",
       "      <td>911237229</td>\n",
       "    </tr>\n",
       "    <tr>\n",
       "      <th>4</th>\n",
       "      <td>2022-11-01 15:12:56.823</td>\n",
       "      <td>NaN</td>\n",
       "      <td>2022-11-03 11:30:00</td>\n",
       "      <td>39822185</td>\n",
       "      <td>2356902.0</td>\n",
       "      <td>5</td>\n",
       "      <td>NaN</td>\n",
       "      <td>True</td>\n",
       "      <td>6222000.0</td>\n",
       "      <td>0.0</td>\n",
       "      <td>...</td>\n",
       "      <td>1</td>\n",
       "      <td>NaN</td>\n",
       "      <td>False</td>\n",
       "      <td>Work</td>\n",
       "      <td>Plane</td>\n",
       "      <td>0</td>\n",
       "      <td>NaN</td>\n",
       "      <td>bb38b345aec02255e31d178492907175c5984f2a1f5b59...</td>\n",
       "      <td>524576220177</td>\n",
       "      <td>727496008</td>\n",
       "    </tr>\n",
       "  </tbody>\n",
       "</table>\n",
       "<p>5 rows × 22 columns</p>\n",
       "</div>"
      ],
      "text/plain": [
       "                   Created               CancelTime        DepartureTime  \\\n",
       "0  2022-07-26 13:33:20.457                      NaN  2022-07-26 16:30:00   \n",
       "1  2022-10-27 23:07:01.837  2022-10-27 23:26:39.070  2022-10-29 09:45:00   \n",
       "2  2022-09-12 11:01:13.607                      NaN  2022-10-03 18:35:00   \n",
       "3  2022-08-08 17:43:35.840                      NaN  2022-08-08 22:30:00   \n",
       "4  2022-11-01 15:12:56.823                      NaN  2022-11-03 11:30:00   \n",
       "\n",
       "     BillID   TicketID  ReserveStatus    UserID   Male      Price  \\\n",
       "0  38428546  7445571.0              3       NaN   True  1180000.0   \n",
       "1  39768762  7762719.0              5       NaN  False  1050000.0   \n",
       "2  39128001  2327596.0              5  800398.0  False  4674000.0   \n",
       "3  38606546  7495440.0              3       NaN   True  1200000.0   \n",
       "4  39822185  2356902.0              5       NaN   True  6222000.0   \n",
       "\n",
       "   CouponDiscount  ... Domestic  \\\n",
       "0             0.0  ...        1   \n",
       "1             0.0  ...        1   \n",
       "2             0.0  ...        1   \n",
       "3             0.0  ...        1   \n",
       "4             0.0  ...        1   \n",
       "\n",
       "                                         VehicleType  VehicleClass TripReason  \\\n",
       "0  VIPمانیتوردار-شارژراختصاصی تخت شو مارال (جدید)...          True       Work   \n",
       "1                                      classicus 2+2          True        Int   \n",
       "2                                           فوکر 100         False        Int   \n",
       "3            VIPدرسا+مانیتوردار+شارژراختصاصی+پذیرایی          True       Work   \n",
       "4                                                NaN         False       Work   \n",
       "\n",
       "  Vehicle Cancel HashPassportNumber_p  \\\n",
       "0     Bus      0                  NaN   \n",
       "1     Bus      1                  NaN   \n",
       "2   Plane      0                  NaN   \n",
       "3     Bus      0                  NaN   \n",
       "4   Plane      0                  NaN   \n",
       "\n",
       "                                           HashEmail   BuyerMobile  \\\n",
       "0                                                NaN  302222356019   \n",
       "1                                                NaN  900764168521   \n",
       "2  1c44d7a76b52341fa12dcfa993138576befcc9ebf01d14...  749804783291   \n",
       "3                                                NaN  781396205677   \n",
       "4  bb38b345aec02255e31d178492907175c5984f2a1f5b59...  524576220177   \n",
       "\n",
       "  NationalCode  \n",
       "0    330024570  \n",
       "1    995520696  \n",
       "2    979382950  \n",
       "3    911237229  \n",
       "4    727496008  \n",
       "\n",
       "[5 rows x 22 columns]"
      ]
     },
     "execution_count": 69,
     "metadata": {},
     "output_type": "execute_result"
    }
   ],
   "source": [
    "train_data = pd.read_csv('train_data.csv')\n",
    "train_data.head()"
   ]
  },
  {
   "cell_type": "code",
   "execution_count": 70,
   "id": "39be5c04-bc6e-43bd-b1d3-6a77bae585f6",
   "metadata": {},
   "outputs": [],
   "source": [
    "train_data.Created = train_data.Created.apply(lambda x :datetime.strptime(x, '%Y-%m-%d %H:%M:%S.%f'))\n",
    "train_data.DepartureTime = train_data.DepartureTime.apply(lambda x :datetime.strptime(x, '%Y-%m-%d %H:%M:%S'))"
   ]
  },
  {
   "cell_type": "code",
   "execution_count": 71,
   "id": "a95c14fd-3c88-4424-90a6-b61943841bce",
   "metadata": {},
   "outputs": [],
   "source": [
    "train_data['time'] = train_data.DepartureTime - train_data.Created\n",
    "train_data['time'] = train_data['time'].apply(lambda x : x.total_seconds())"
   ]
  },
  {
   "cell_type": "code",
   "execution_count": 72,
   "id": "40b7db7e-d9a0-46d5-936b-6f25063f342a",
   "metadata": {},
   "outputs": [],
   "source": [
    "train_data = train_data.drop('CancelTime', axis=1)\n",
    "train_data = train_data.drop('Created', axis=1)\n",
    "\n",
    "train_data = train_data.drop('BillID', axis=1)\n",
    "\n",
    "train_data = train_data.drop('UserID', axis=1)\n",
    "\n",
    "train_data = train_data.drop(train_data[train_data['Price'] == 0.0].index)\n",
    "train_data = train_data.drop(train_data[train_data['Price'] == -1514000.0].index)\n",
    "train_data = train_data.drop('VehicleType', axis=1)\n"
   ]
  },
  {
   "cell_type": "code",
   "execution_count": 73,
   "id": "916bcb87-45a2-4914-8bb7-53258a2e57df",
   "metadata": {},
   "outputs": [],
   "source": [
    "lst = train_data.groupby('From')['VehicleClass'].apply(lambda x : x.mode())"
   ]
  },
  {
   "cell_type": "code",
   "execution_count": 74,
   "id": "983b7f24-7a08-44db-a97f-9942a2e9a240",
   "metadata": {},
   "outputs": [],
   "source": [
    "train_data.loc[train_data.VehicleClass.isnull(), 'VehicleClass'] = train_data.From.apply(lambda x :lst[x][0] if x in lst else None)\n",
    "train_data.loc[train_data.VehicleClass.isnull(), 'VehicleClass'] = True"
   ]
  },
  {
   "cell_type": "code",
   "execution_count": 75,
   "id": "b340fbc1-39bc-4961-be91-84dc2bacf66a",
   "metadata": {},
   "outputs": [],
   "source": [
    "train_data = train_data.drop('HashPassportNumber_p', axis=1)\n",
    "train_data = train_data.drop('HashEmail', axis=1)\n",
    "train_data = train_data.drop('BuyerMobile', axis=1)\n",
    "train_data = train_data.drop('NationalCode', axis=1)"
   ]
  },
  {
   "cell_type": "code",
   "execution_count": 76,
   "id": "6eac62f0-9b99-4aa3-b93d-cfb841e899a9",
   "metadata": {},
   "outputs": [],
   "source": [
    "train_data['month'] = train_data['DepartureTime'].dt.month"
   ]
  },
  {
   "cell_type": "code",
   "execution_count": 77,
   "id": "f365eb0f-c780-44c9-ac75-c9f47ab81b00",
   "metadata": {},
   "outputs": [],
   "source": [
    "train_data = train_data.drop('DepartureTime', axis=1)\n",
    "train_data = train_data.drop('From', axis=1)\n",
    "train_data = train_data.drop('To', axis=1)"
   ]
  },
  {
   "cell_type": "code",
   "execution_count": 78,
   "id": "4ade6c0e-5ff1-4a7f-95aa-f13fbe8202af",
   "metadata": {},
   "outputs": [],
   "source": [
    "train_data.VehicleClass = train_data.VehicleClass.astype('bool')"
   ]
  },
  {
   "cell_type": "code",
   "execution_count": 79,
   "id": "61161225-51c0-4d55-b8c9-38bfb8e5d737",
   "metadata": {},
   "outputs": [],
   "source": [
    "mapping = {'Int' : 0,\n",
    "           'Work' : 1}"
   ]
  },
  {
   "cell_type": "code",
   "execution_count": 80,
   "id": "118be430-05f7-4ce2-97eb-a425945b2de4",
   "metadata": {},
   "outputs": [],
   "source": [
    "train_data.TripReason = train_data.TripReason.map(mapping)"
   ]
  },
  {
   "cell_type": "code",
   "execution_count": 81,
   "id": "7a70ad32-62fa-4f16-ae83-f7cc39fac206",
   "metadata": {},
   "outputs": [],
   "source": [
    "train_data = pd.get_dummies(train_data, columns=['Vehicle'])"
   ]
  },
  {
   "cell_type": "code",
   "execution_count": 82,
   "id": "c5da19a3-f42a-499d-8dd2-9e81043b241b",
   "metadata": {},
   "outputs": [
    {
     "name": "stdout",
     "output_type": "stream",
     "text": [
      "<class 'pandas.core.frame.DataFrame'>\n",
      "Index: 101015 entries, 0 to 101016\n",
      "Data columns (total 15 columns):\n",
      " #   Column                      Non-Null Count   Dtype  \n",
      "---  ------                      --------------   -----  \n",
      " 0   TicketID                    101015 non-null  float64\n",
      " 1   ReserveStatus               101015 non-null  int64  \n",
      " 2   Male                        101015 non-null  bool   \n",
      " 3   Price                       101015 non-null  float64\n",
      " 4   CouponDiscount              101015 non-null  float64\n",
      " 5   Domestic                    101015 non-null  int64  \n",
      " 6   VehicleClass                101015 non-null  bool   \n",
      " 7   TripReason                  101015 non-null  int64  \n",
      " 8   Cancel                      101015 non-null  int64  \n",
      " 9   time                        101015 non-null  float64\n",
      " 10  month                       101015 non-null  int32  \n",
      " 11  Vehicle_Bus                 101015 non-null  bool   \n",
      " 12  Vehicle_InternationalPlane  101015 non-null  bool   \n",
      " 13  Vehicle_Plane               101015 non-null  bool   \n",
      " 14  Vehicle_Train               101015 non-null  bool   \n",
      "dtypes: bool(6), float64(4), int32(1), int64(4)\n",
      "memory usage: 11.9 MB\n"
     ]
    }
   ],
   "source": [
    "train_data.info()"
   ]
  },
  {
   "cell_type": "code",
   "execution_count": 83,
   "id": "07e340c9-721d-45e8-ac2f-5b0d04eb1ac7",
   "metadata": {},
   "outputs": [],
   "source": [
    "x = train_data.drop('Cancel', axis=1)\n",
    "y = train_data['Cancel']"
   ]
  },
  {
   "cell_type": "code",
   "execution_count": 84,
   "id": "a2349efc-755a-4efb-9c9b-5d8718fefde4",
   "metadata": {},
   "outputs": [
    {
     "ename": "SyntaxError",
     "evalue": "invalid syntax (3473781236.py, line 2)",
     "output_type": "error",
     "traceback": [
      "\u001b[1;36m  Cell \u001b[1;32mIn[84], line 2\u001b[1;36m\u001b[0m\n\u001b[1;33m    from sklearn.preprocessing import\u001b[0m\n\u001b[1;37m                                      ^\u001b[0m\n\u001b[1;31mSyntaxError\u001b[0m\u001b[1;31m:\u001b[0m invalid syntax\n"
     ]
    }
   ],
   "source": [
    "#StandardScaler\n",
    "from sklearn.preprocessing import \n",
    "scaler = StandardScaler()\n",
    "x = pd.DataFrame(scaler.fit_transform(x), columns=scaler.feature_names_in_)"
   ]
  },
  {
   "cell_type": "code",
   "execution_count": null,
   "id": "87f0174d-c437-4a31-801b-1a4075cb414c",
   "metadata": {},
   "outputs": [],
   "source": [
    "#train_test_split\n",
    "from sklearn.model_selection import train_test_split\n",
    "xtrain, xtest, ytrain, ytest = train_test_split(x,y, test_size=0.2, random_state=42)"
   ]
  },
  {
   "cell_type": "code",
   "execution_count": null,
   "id": "9d59c6cb-1ae5-41ee-9695-a9a120ccedc5",
   "metadata": {},
   "outputs": [],
   "source": [
    "#RandomForestClassifier\n",
    "from sklearn.ensemble import RandomForestClassifier\n",
    "n0 = ytrain[ytrain == 0].size\n",
    "n1 = ytrain[ytrain == 1].size\n",
    "W = {0 : n1/(n0+n1), 1:n0/(n0+n1)}\n",
    "model = RandomForestClassifier(n_estimators = 50, max_depth=30, random_state=42, class_weight=W)\n",
    "model.fit(xtrain, ytrain)"
   ]
  },
  {
   "cell_type": "code",
   "execution_count": null,
   "id": "e5b24034-e475-49c7-8831-c53e965bf51d",
   "metadata": {},
   "outputs": [],
   "source": [
    "# predict test samples\n",
    "y_pred = model.predict(xtest)"
   ]
  },
  {
   "cell_type": "code",
   "execution_count": null,
   "id": "a7783d3b-2028-4c6e-a4b6-4ae77f1dd2bc",
   "metadata": {},
   "outputs": [],
   "source": [
    "# evaluate model\n",
    "from sklearn.metrics import f1_score, classification_report, confusion_matrix\n",
    "import seaborn as sns\n",
    "\n",
    "print(classification_report(ytest, y_pred))\n",
    "sns.heatmap(confusion_matrix(y_pred, ytest), annot=True)"
   ]
  }
 ],
 "metadata": {
  "kernelspec": {
   "display_name": "Python 3 (ipykernel)",
   "language": "python",
   "name": "python3"
  },
  "language_info": {
   "codemirror_mode": {
    "name": "ipython",
    "version": 3
   },
   "file_extension": ".py",
   "mimetype": "text/x-python",
   "name": "python",
   "nbconvert_exporter": "python",
   "pygments_lexer": "ipython3",
   "version": "3.10.9"
  }
 },
 "nbformat": 4,
 "nbformat_minor": 5
}
